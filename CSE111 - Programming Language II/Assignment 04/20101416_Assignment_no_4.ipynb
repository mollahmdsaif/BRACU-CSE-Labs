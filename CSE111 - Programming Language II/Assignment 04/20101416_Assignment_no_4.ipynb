{
 "cells": [
  {
   "cell_type": "code",
   "execution_count": 1,
   "metadata": {
    "scrolled": true
   },
   "outputs": [
    {
     "name": "stdin",
     "output_type": "stream",
     "text": [
      " 1\n",
      " 5\n",
      " 6\n",
      " 2\n",
      " 5\n",
      " 6\n",
      " 54\n",
      " 4\n",
      " 5\n",
      " 21\n"
     ]
    },
    {
     "name": "stdout",
     "output_type": "stream",
     "text": [
      "21\n",
      "5\n",
      "4\n",
      "54\n",
      "6\n",
      "5\n",
      "2\n",
      "6\n",
      "5\n",
      "1\n"
     ]
    }
   ],
   "source": [
    "for i in [input() for n in range(10)][::-1]: print(i)"
   ]
  },
  {
   "cell_type": "code",
   "execution_count": 2,
   "metadata": {},
   "outputs": [
    {
     "name": "stdin",
     "output_type": "stream",
     "text": [
      " 1,3,5,7,9,10\n",
      " 2,4,6,8\n"
     ]
    },
    {
     "name": "stdout",
     "output_type": "stream",
     "text": [
      "[1, 3, 5, 7, 9, 2, 4, 6, 8]\n"
     ]
    }
   ],
   "source": [
    "print(list(map(int,input().split(',')))[:-1:] + (list(map(int,input().split(',')))))"
   ]
  },
  {
   "cell_type": "code",
   "execution_count": null,
   "metadata": {},
   "outputs": [],
   "source": [
    "s = set([])\n",
    "while(len(s)<10):\n",
    "    s.add(input())"
   ]
  },
  {
   "cell_type": "code",
   "execution_count": 4,
   "metadata": {},
   "outputs": [
    {
     "name": "stdin",
     "output_type": "stream",
     "text": [
      " 10\n",
      " 20\n",
      " 20\n",
      " 30\n",
      " 10\n",
      " 50\n",
      " 90\n",
      " STOP\n"
     ]
    },
    {
     "name": "stdout",
     "output_type": "stream",
     "text": [
      "10 - 2 times\n",
      "20 - 2 times\n",
      "30 - 1 times\n",
      "50 - 1 times\n",
      "90 - 1 times\n"
     ]
    }
   ],
   "source": [
    "d = {}\n",
    "while True:\n",
    "    i = input()\n",
    "    if i=='STOP':\n",
    "        break\n",
    "    d[int(i)] = d.get(int(i),0) + 1\n",
    "for i,j in d.items():\n",
    "    print(i,'-',j,'times')"
   ]
  },
  {
   "cell_type": "code",
   "execution_count": 5,
   "metadata": {},
   "outputs": [
    {
     "name": "stdin",
     "output_type": "stream",
     "text": [
      " 4\n",
      " 1 2 3\n",
      " 4 5 6\n",
      " 10 11 12\n",
      " 7 8 9\n"
     ]
    },
    {
     "name": "stdout",
     "output_type": "stream",
     "text": [
      "33\n",
      "[10, 11, 12]\n"
     ]
    }
   ],
   "source": [
    "l = [list(map(int, input().split(' '))) for i in range(int(input()))]\n",
    "s = [sum(l[i]) for i in range(int(len(l)))]\n",
    "print(max(s),l[s.index(max(s))],sep='\\n')"
   ]
  },
  {
   "cell_type": "code",
   "execution_count": 6,
   "metadata": {},
   "outputs": [
    {
     "name": "stdin",
     "output_type": "stream",
     "text": [
      " 2 3 6\n",
      " 3 4 5\n"
     ]
    },
    {
     "name": "stdout",
     "output_type": "stream",
     "text": [
      "[6, 8, 10, 9, 12, 15, 18, 24, 30]\n"
     ]
    }
   ],
   "source": [
    "l = [list(map(int,input().split(' '))), list(map(int,input().split(' ')))]\n",
    "print([i*j for i in l[0] for j in l[1]])"
   ]
  },
  {
   "cell_type": "code",
   "execution_count": 7,
   "metadata": {},
   "outputs": [
    {
     "name": "stdin",
     "output_type": "stream",
     "text": [
      " 3\n",
      " a,b,c,d,e,f,g,h,i,j,k,l,m,n\n"
     ]
    },
    {
     "name": "stdout",
     "output_type": "stream",
     "text": [
      "[['a', 'd', 'g', 'j', 'm'], ['b', 'e', 'h', 'k', 'n'], ['c', 'f', 'i', 'l']]\n"
     ]
    }
   ],
   "source": [
    "n = int(input())\n",
    "s = input().split(',')\n",
    "print([list(s[::n]), list(s[1::n]), list(s[2::n])])"
   ]
  },
  {
   "cell_type": "code",
   "execution_count": 8,
   "metadata": {},
   "outputs": [
    {
     "name": "stdin",
     "output_type": "stream",
     "text": [
      " 1 4 2 3\n"
     ]
    },
    {
     "name": "stdout",
     "output_type": "stream",
     "text": [
      "UB Jumper\n"
     ]
    },
    {
     "name": "stdin",
     "output_type": "stream",
     "text": [
      " 2 1 4 6 10\n"
     ]
    },
    {
     "name": "stdout",
     "output_type": "stream",
     "text": [
      "UB Jumper\n"
     ]
    },
    {
     "name": "stdin",
     "output_type": "stream",
     "text": [
      " 1 4 2 -1 6\n"
     ]
    },
    {
     "name": "stdout",
     "output_type": "stream",
     "text": [
      "Not UB Jumper\n"
     ]
    },
    {
     "name": "stdin",
     "output_type": "stream",
     "text": [
      " STOP\n"
     ]
    }
   ],
   "source": [
    "def ub_jumper(l):\n",
    "    s = set([abs(l[i]-l[i+1]) for i in range(0,len(l)-1)])\n",
    "    if len(s) != len(l)-1:\n",
    "        return False\n",
    "    if sorted(list(s))!=[i for i in range(1, len(l))]:\n",
    "        False\n",
    "    return True\n",
    "\n",
    "i = input()\n",
    "while i!='STOP':\n",
    "    print('UB Jumper' if ub_jumper(list(map(int,i.split(' ')))) else 'Not UB Jumper')\n",
    "    i = input()"
   ]
  },
  {
   "cell_type": "code",
   "execution_count": null,
   "metadata": {},
   "outputs": [],
   "source": [
    "s = input()\n",
    "print(''.join([''.join([i for i in s if i.islower()]),''.join([i for i in s if i.isupper()]),''.join([i for i in s if i.isnumeric() and int(i)&1==1]),''.join([i for i in s if i.isnumeric() and int(i)&1==0])]))"
   ]
  },
  {
   "cell_type": "code",
   "execution_count": null,
   "metadata": {},
   "outputs": [],
   "source": [
    "n,k = (list(map(int,input().split(' '))))\n",
    "y = list(map(int,input().split(' ')))\n",
    "o = 0\n",
    "for i in y:\n",
    "    if 5 - i >= k:\n",
    "        o+=1\n",
    "print(int(o/3))"
   ]
  }
 ],
 "metadata": {
  "kernelspec": {
   "display_name": "Python 3 (ipykernel)",
   "language": "python",
   "name": "python3"
  },
  "language_info": {
   "codemirror_mode": {
    "name": "ipython",
    "version": 3
   },
   "file_extension": ".py",
   "mimetype": "text/x-python",
   "name": "python",
   "nbconvert_exporter": "python",
   "pygments_lexer": "ipython3",
   "version": "3.9.7"
  }
 },
 "nbformat": 4,
 "nbformat_minor": 4
}
