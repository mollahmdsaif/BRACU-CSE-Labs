{
 "cells": [
  {
   "cell_type": "code",
   "execution_count": null,
   "metadata": {},
   "outputs": [],
   "source": [
    "d = {i.split(':')[0].strip(): int(i.split(':')[1]) for i in input().split(',')}\n",
    "i = input()\n",
    "while i != 'STOP':\n",
    "    print(int(i) in d.values())\n",
    "    i = input()"
   ]
  },
  {
   "cell_type": "code",
   "execution_count": null,
   "metadata": {},
   "outputs": [],
   "source": [
    "d = {i.split(':')[0].strip(): int(i.split(':')[1]) for i in input().split(',')}\n",
    "print('Minimum:', list(d.keys())[list(d.values()).index(min(d.values()))])\n",
    "print('Maximum:', list(d.keys())[list(d.values()).index(max(d.values()))])"
   ]
  },
  {
   "cell_type": "code",
   "execution_count": 1,
   "metadata": {},
   "outputs": [
    {
     "name": "stdout",
     "output_type": "stream",
     "text": [
      "1\n",
      "2\n",
      "3\n",
      "4\n",
      "5\n",
      "64\n",
      "45\n",
      "5\n",
      "69\n",
      "84\n",
      "48\n"
     ]
    }
   ],
   "source": [
    "d = {}\n",
    "while len(d)<10:\n",
    "    d[int(input())]=''"
   ]
  },
  {
   "cell_type": "code",
   "execution_count": null,
   "metadata": {
    "scrolled": true
   },
   "outputs": [],
   "source": [
    "dict_generator = lambda x: {i.split(':')[0].strip(): int(i.split(':')[1]) for i in x.split(',')}\n",
    "d1, d2 = (dict_generator(input()), dict_generator(input()))\n",
    "for i,j in d1.items():\n",
    "    d2.update({i: ((d2[i] + j) if d2.get(i)!=None else j)})\n",
    "print(dict(sorted(d2.items())))\n",
    "print('Values:', sorted(tuple(set(d2.values()))))"
   ]
  },
  {
   "cell_type": "code",
   "execution_count": null,
   "metadata": {},
   "outputs": [],
   "source": [
    "i,d = (input(),{})\n",
    "while not i=='STOP':\n",
    "    d.update({i: (1 if d.get(i)==None else (d[i]+1))})\n",
    "    i = input()\n",
    "for i,j in d.items():\n",
    "    print(i,'-',j,'times')"
   ]
  },
  {
   "cell_type": "code",
   "execution_count": null,
   "metadata": {},
   "outputs": [],
   "source": [
    "d1,d2 = ({i.split(':')[0].strip(): i.split(':')[1].strip() for i in input().split(',')}, {})\n",
    "for k,v in d1.items():\n",
    "    d2[v] = d2[v]+[k] if v in d2 else [k]\n",
    "print(d2)"
   ]
  },
  {
   "cell_type": "code",
   "execution_count": null,
   "metadata": {},
   "outputs": [],
   "source": [
    "def dict_char_cnt(s,d={}):\n",
    "    p=set(list(s))\n",
    "    for c in p:\n",
    "        d[c]=s.count(c)\n",
    "    return sorted(d.items())\n",
    "\n",
    "s1,s2=(input(),input())\n",
    "if sorted(dict_char_cnt(s1))==sorted(dict_char_cnt(s2)):\n",
    "    print(\"Those strings are anagrams.\")\n",
    "else:\n",
    "    print(\"Those strings are not anagrams.\")"
   ]
  },
  {
   "cell_type": "code",
   "execution_count": 2,
   "metadata": {},
   "outputs": [
    {
     "name": "stdout",
     "output_type": "stream",
     "text": [
      "my name is saif\n",
      "6999066263304447777077772444333\n"
     ]
    }
   ],
   "source": [
    "def char_to_num(starting_char, starting_num, cnt_char, reminder):\n",
    "    starting_char = ord(starting_char)\n",
    "    for i,j in zip(range(cnt_char),range(cnt_char)):\n",
    "        d[chr(starting_char+i)]=str(int(j/reminder+starting_num))*(j%reminder+1)\n",
    "    return d\n",
    "global d\n",
    "d = {'.': '1', ',': '11', '?': '111', '!': '1111', ':': '11111', ' ': '0'}\n",
    "d = char_to_num('A',2,15,3) \n",
    "d = char_to_num('P',7,4,4)\n",
    "d = char_to_num('T',8,3,3)\n",
    "d = char_to_num('W',9,4,4)\n",
    "\n",
    "print(''.join([d[c] for c in list(input().upper())]))"
   ]
  }
 ],
 "metadata": {
  "kernelspec": {
   "display_name": "Python 3 (ipykernel)",
   "language": "python",
   "name": "python3"
  },
  "language_info": {
   "codemirror_mode": {
    "name": "ipython",
    "version": 3
   },
   "file_extension": ".py",
   "mimetype": "text/x-python",
   "name": "python",
   "nbconvert_exporter": "python",
   "pygments_lexer": "ipython3",
   "version": "3.9.7"
  }
 },
 "nbformat": 4,
 "nbformat_minor": 4
}
